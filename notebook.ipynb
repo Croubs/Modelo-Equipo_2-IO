{
 "cells": [
  {
   "cell_type": "markdown",
   "metadata": {},
   "source": [
    "Antes de empezar no olvides tener instalado python, pandas, numpy, pyomo y glpk"
   ]
  },
  {
   "cell_type": "markdown",
   "metadata": {},
   "source": [
    "Iniciamos importando las librerias que necesitaremos y verificando si nuestro solver está disponible, en nuestro caso utilizamos GLPK"
   ]
  },
  {
   "cell_type": "code",
   "execution_count": 13,
   "metadata": {},
   "outputs": [
    {
     "data": {
      "text/plain": [
       "True"
      ]
     },
     "execution_count": 13,
     "metadata": {},
     "output_type": "execute_result"
    }
   ],
   "source": [
    "from pyomo.opt import SolverFactory\n",
    "import pyomo.environ as pyo\n",
    "import pandas as pd\n",
    "import numpy as np\n",
    "\n",
    "# Verifica si GLPK está disponible\n",
    "SolverFactory('glpk').available()\n"
   ]
  },
  {
   "cell_type": "markdown",
   "metadata": {},
   "source": [
    "Cargamos nuestra información"
   ]
  },
  {
   "cell_type": "code",
   "execution_count": 14,
   "metadata": {},
   "outputs": [
    {
     "data": {
      "text/html": [
       "<div>\n",
       "<style scoped>\n",
       "    .dataframe tbody tr th:only-of-type {\n",
       "        vertical-align: middle;\n",
       "    }\n",
       "\n",
       "    .dataframe tbody tr th {\n",
       "        vertical-align: top;\n",
       "    }\n",
       "\n",
       "    .dataframe thead th {\n",
       "        text-align: right;\n",
       "    }\n",
       "</style>\n",
       "<table border=\"1\" class=\"dataframe\">\n",
       "  <thead>\n",
       "    <tr style=\"text-align: right;\">\n",
       "      <th></th>\n",
       "      <th>Barcos</th>\n",
       "      <th>Puerto1</th>\n",
       "      <th>Puerto2</th>\n",
       "      <th>Puerto3</th>\n",
       "      <th>Puerto4</th>\n",
       "    </tr>\n",
       "  </thead>\n",
       "  <tbody>\n",
       "    <tr>\n",
       "      <th>0</th>\n",
       "      <td>Barco1</td>\n",
       "      <td>5</td>\n",
       "      <td>4</td>\n",
       "      <td>6</td>\n",
       "      <td>7</td>\n",
       "    </tr>\n",
       "    <tr>\n",
       "      <th>1</th>\n",
       "      <td>Barco2</td>\n",
       "      <td>6</td>\n",
       "      <td>6</td>\n",
       "      <td>7</td>\n",
       "      <td>5</td>\n",
       "    </tr>\n",
       "    <tr>\n",
       "      <th>2</th>\n",
       "      <td>Barco3</td>\n",
       "      <td>7</td>\n",
       "      <td>5</td>\n",
       "      <td>7</td>\n",
       "      <td>6</td>\n",
       "    </tr>\n",
       "    <tr>\n",
       "      <th>3</th>\n",
       "      <td>Barco4</td>\n",
       "      <td>5</td>\n",
       "      <td>4</td>\n",
       "      <td>6</td>\n",
       "      <td>6</td>\n",
       "    </tr>\n",
       "  </tbody>\n",
       "</table>\n",
       "</div>"
      ],
      "text/plain": [
       "   Barcos  Puerto1  Puerto2  Puerto3  Puerto4\n",
       "0  Barco1        5        4        6        7\n",
       "1  Barco2        6        6        7        5\n",
       "2  Barco3        7        5        7        6\n",
       "3  Barco4        5        4        6        6"
      ]
     },
     "execution_count": 14,
     "metadata": {},
     "output_type": "execute_result"
    }
   ],
   "source": [
    "df = pd.read_excel('data/Equipo2.xlsx', engine='openpyxl')\n",
    "df = df.rename(columns={'Unnamed: 0': 'Barcos'})\n",
    "df"
   ]
  },
  {
   "cell_type": "markdown",
   "metadata": {},
   "source": [
    "Ahora creamos el modelo que planteamos con anterioridad"
   ]
  },
  {
   "cell_type": "code",
   "execution_count": 15,
   "metadata": {},
   "outputs": [],
   "source": [
    "# Conjunto de Barcos\n",
    "B = df['Barcos'].unique()\n",
    "\n",
    "# Conjunto de Puertos\n",
    "P = df.iloc[:,1:].columns.unique() # Con esto obtenemos los encabezados de todas las columnas menos la de los barcos\n",
    "\n",
    "# Costo total por enviar el barco b al puerto p\n",
    "c = df.groupby(by=['Barcos']).sum()\n",
    "\n",
    "# Creamos una variable que tendra nuestro modelo, usaremos uno del tipo Concreto\n",
    "model = pyo.ConcreteModel()\n",
    "\n",
    "# Creamos nuestra variable de decision\n",
    "model.x = pyo.Var(B, P, within=pyo.Binary, doc='Asignacion de barcos a puertos')\n",
    "\n",
    "# Establecemos nuestra funcion objetivo\n",
    "model.obj = pyo.Objective(expr=sum(c.loc[b,p]*model.x[b,p] for b in B for p in P))\n",
    "\n",
    "# Restricciones\n",
    "# Cada barco va a un solo puerto\n",
    "model.con1 = pyo.ConstraintList()\n",
    "for b in B:\n",
    "  model.con1.add(expr=sum(model.x[b, p] for p in P) == 1)\n",
    "\n",
    "# A cada puerto llega solo un barco\n",
    "model.con2 = pyo.ConstraintList()\n",
    "for p in P:\n",
    "  model.con2.add(expr=sum(model.x[b, p] for b in B) == 1)"
   ]
  },
  {
   "cell_type": "markdown",
   "metadata": {},
   "source": [
    "Vamos a ver cómo quedó nuestro modelo"
   ]
  },
  {
   "cell_type": "code",
   "execution_count": 16,
   "metadata": {},
   "outputs": [
    {
     "name": "stdout",
     "output_type": "stream",
     "text": [
      "1 Var Declarations\n",
      "    x : Asignacion de barcos a puertos\n",
      "        Size=16, Index={Barco3, Barco2, Barco1, Barco4}*{Puerto2, Puerto4, Puerto1, Puerto3}\n",
      "        Key                   : Lower : Value : Upper : Fixed : Stale : Domain\n",
      "        ('Barco1', 'Puerto1') :     0 :  None :     1 : False :  True : Binary\n",
      "        ('Barco1', 'Puerto2') :     0 :  None :     1 : False :  True : Binary\n",
      "        ('Barco1', 'Puerto3') :     0 :  None :     1 : False :  True : Binary\n",
      "        ('Barco1', 'Puerto4') :     0 :  None :     1 : False :  True : Binary\n",
      "        ('Barco2', 'Puerto1') :     0 :  None :     1 : False :  True : Binary\n",
      "        ('Barco2', 'Puerto2') :     0 :  None :     1 : False :  True : Binary\n",
      "        ('Barco2', 'Puerto3') :     0 :  None :     1 : False :  True : Binary\n",
      "        ('Barco2', 'Puerto4') :     0 :  None :     1 : False :  True : Binary\n",
      "        ('Barco3', 'Puerto1') :     0 :  None :     1 : False :  True : Binary\n",
      "        ('Barco3', 'Puerto2') :     0 :  None :     1 : False :  True : Binary\n",
      "        ('Barco3', 'Puerto3') :     0 :  None :     1 : False :  True : Binary\n",
      "        ('Barco3', 'Puerto4') :     0 :  None :     1 : False :  True : Binary\n",
      "        ('Barco4', 'Puerto1') :     0 :  None :     1 : False :  True : Binary\n",
      "        ('Barco4', 'Puerto2') :     0 :  None :     1 : False :  True : Binary\n",
      "        ('Barco4', 'Puerto3') :     0 :  None :     1 : False :  True : Binary\n",
      "        ('Barco4', 'Puerto4') :     0 :  None :     1 : False :  True : Binary\n",
      "\n",
      "1 Objective Declarations\n",
      "    obj : Size=1, Index=None, Active=True\n",
      "        Key  : Active : Sense    : Expression\n",
      "        None :   True : minimize : 5*x[Barco1,Puerto1] + 4*x[Barco1,Puerto2] + 6*x[Barco1,Puerto3] + 7*x[Barco1,Puerto4] + 6*x[Barco2,Puerto1] + 6*x[Barco2,Puerto2] + 7*x[Barco2,Puerto3] + 5*x[Barco2,Puerto4] + 7*x[Barco3,Puerto1] + 5*x[Barco3,Puerto2] + 7*x[Barco3,Puerto3] + 6*x[Barco3,Puerto4] + 5*x[Barco4,Puerto1] + 4*x[Barco4,Puerto2] + 6*x[Barco4,Puerto3] + 6*x[Barco4,Puerto4]\n",
      "\n",
      "2 Constraint Declarations\n",
      "    con1 : Size=4, Index={1, 2, 3, 4}, Active=True\n",
      "        Key : Lower : Body                                                                          : Upper : Active\n",
      "          1 :   1.0 : x[Barco1,Puerto1] + x[Barco1,Puerto2] + x[Barco1,Puerto3] + x[Barco1,Puerto4] :   1.0 :   True\n",
      "          2 :   1.0 : x[Barco2,Puerto1] + x[Barco2,Puerto2] + x[Barco2,Puerto3] + x[Barco2,Puerto4] :   1.0 :   True\n",
      "          3 :   1.0 : x[Barco3,Puerto1] + x[Barco3,Puerto2] + x[Barco3,Puerto3] + x[Barco3,Puerto4] :   1.0 :   True\n",
      "          4 :   1.0 : x[Barco4,Puerto1] + x[Barco4,Puerto2] + x[Barco4,Puerto3] + x[Barco4,Puerto4] :   1.0 :   True\n",
      "    con2 : Size=4, Index={1, 2, 3, 4}, Active=True\n",
      "        Key : Lower : Body                                                                          : Upper : Active\n",
      "          1 :   1.0 : x[Barco1,Puerto1] + x[Barco2,Puerto1] + x[Barco3,Puerto1] + x[Barco4,Puerto1] :   1.0 :   True\n",
      "          2 :   1.0 : x[Barco1,Puerto2] + x[Barco2,Puerto2] + x[Barco3,Puerto2] + x[Barco4,Puerto2] :   1.0 :   True\n",
      "          3 :   1.0 : x[Barco1,Puerto3] + x[Barco2,Puerto3] + x[Barco3,Puerto3] + x[Barco4,Puerto3] :   1.0 :   True\n",
      "          4 :   1.0 : x[Barco1,Puerto4] + x[Barco2,Puerto4] + x[Barco3,Puerto4] + x[Barco4,Puerto4] :   1.0 :   True\n",
      "\n",
      "4 Declarations: x obj con1 con2\n"
     ]
    }
   ],
   "source": [
    "model.pprint()"
   ]
  },
  {
   "cell_type": "markdown",
   "metadata": {},
   "source": [
    "Llamamos a nuestro solver y resolvemos el problema"
   ]
  },
  {
   "cell_type": "code",
   "execution_count": 17,
   "metadata": {},
   "outputs": [],
   "source": [
    "solver = pyo.SolverFactory('glpk')\n",
    "resultados = solver.solve(model)"
   ]
  },
  {
   "cell_type": "markdown",
   "metadata": {},
   "source": [
    "¡Es hora de ver los resultados!"
   ]
  },
  {
   "cell_type": "code",
   "execution_count": 18,
   "metadata": {},
   "outputs": [
    {
     "name": "stdout",
     "output_type": "stream",
     "text": [
      "Se debe enviar al barco Barco1 al puerto Puerto1, su costo es de 5\n",
      "Se debe enviar al barco Barco2 al puerto Puerto4, su costo es de 5\n",
      "Se debe enviar al barco Barco3 al puerto Puerto2, su costo es de 5\n",
      "Se debe enviar al barco Barco4 al puerto Puerto3, su costo es de 6\n"
     ]
    }
   ],
   "source": [
    "for b in B:\n",
    "    for p in P:\n",
    "        if pyo.value(model.x[b, p]) != 0:\n",
    "            print('Se debe enviar al barco {} al puerto {}, su costo es de {}'.format(b, p, pyo.value(c.loc[b, p])))"
   ]
  },
  {
   "cell_type": "markdown",
   "metadata": {},
   "source": [
    "El costo minimo total para los cuatro envios es de..."
   ]
  },
  {
   "cell_type": "code",
   "execution_count": 19,
   "metadata": {},
   "outputs": [
    {
     "name": "stdout",
     "output_type": "stream",
     "text": [
      "21.0 unidades monetarias\n"
     ]
    }
   ],
   "source": [
    "print('{} unidades monetarias'.format(pyo.value(model.obj)))"
   ]
  }
 ],
 "metadata": {
  "kernelspec": {
   "display_name": "env",
   "language": "python",
   "name": "python3"
  },
  "language_info": {
   "codemirror_mode": {
    "name": "ipython",
    "version": 3
   },
   "file_extension": ".py",
   "mimetype": "text/x-python",
   "name": "python",
   "nbconvert_exporter": "python",
   "pygments_lexer": "ipython3",
   "version": "3.10.12"
  }
 },
 "nbformat": 4,
 "nbformat_minor": 2
}
